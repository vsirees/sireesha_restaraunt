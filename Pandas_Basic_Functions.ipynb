{
 "cells": [
  {
   "cell_type": "code",
   "execution_count": null,
   "id": "16ec88fa",
   "metadata": {},
   "outputs": [],
   "source": []
  },
  {
   "cell_type": "code",
   "execution_count": 3,
   "id": "391b4650",
   "metadata": {},
   "outputs": [
    {
     "name": "stdout",
     "output_type": "stream",
     "text": [
      "leap year\n"
     ]
    }
   ],
   "source": [
    "def checkyear(year): #2000\n",
    "    return ((( year % 4==0) and (year % 100 !=0)) or (year%400==0))\n",
    "year=2004\n",
    "if (checkyear(year)):\n",
    "\tprint('leap year')\n",
    "else:\n",
    "\tprint(\"Not a leap year\")"
   ]
  },
  {
   "cell_type": "code",
   "execution_count": null,
   "id": "18319327",
   "metadata": {},
   "outputs": [],
   "source": []
  },
  {
   "cell_type": "code",
   "execution_count": 4,
   "id": "7d5e7eb1",
   "metadata": {},
   "outputs": [],
   "source": [
    "import pandas as pd"
   ]
  },
  {
   "cell_type": "code",
   "execution_count": 15,
   "id": "44a4f8be",
   "metadata": {},
   "outputs": [],
   "source": [
    "df=pd.read_excel(r\"C:\\Users\\siriv\\OneDrive\\Desktop\\Udemy\\Example\\Python_Sample.xlsx\")"
   ]
  },
  {
   "cell_type": "code",
   "execution_count": 16,
   "id": "ab334b4e",
   "metadata": {},
   "outputs": [
    {
     "data": {
      "text/plain": [
       "pandas.core.frame.DataFrame"
      ]
     },
     "execution_count": 16,
     "metadata": {},
     "output_type": "execute_result"
    }
   ],
   "source": [
    "type(df)"
   ]
  },
  {
   "cell_type": "code",
   "execution_count": 19,
   "id": "55e77ce4",
   "metadata": {},
   "outputs": [
    {
     "data": {
      "text/plain": [
       "Index(['School Name', 'Area Code', 'City Code', 'State', 'No.of students',\n",
       "       'Presents', 'Absents', 'Section', 'Floor'],\n",
       "      dtype='object')"
      ]
     },
     "execution_count": 19,
     "metadata": {},
     "output_type": "execute_result"
    }
   ],
   "source": [
    "df.columns "
   ]
  },
  {
   "cell_type": "code",
   "execution_count": 27,
   "id": "6601a3ea",
   "metadata": {},
   "outputs": [
    {
     "data": {
      "text/html": [
       "<div>\n",
       "<style scoped>\n",
       "    .dataframe tbody tr th:only-of-type {\n",
       "        vertical-align: middle;\n",
       "    }\n",
       "\n",
       "    .dataframe tbody tr th {\n",
       "        vertical-align: top;\n",
       "    }\n",
       "\n",
       "    .dataframe thead th {\n",
       "        text-align: right;\n",
       "    }\n",
       "</style>\n",
       "<table border=\"1\" class=\"dataframe\">\n",
       "  <thead>\n",
       "    <tr style=\"text-align: right;\">\n",
       "      <th></th>\n",
       "      <th>School Name</th>\n",
       "      <th>Area Code</th>\n",
       "      <th>City Code</th>\n",
       "      <th>State</th>\n",
       "      <th>No.of students</th>\n",
       "      <th>Presents</th>\n",
       "      <th>Absents</th>\n",
       "      <th>Section</th>\n",
       "      <th>Floor</th>\n",
       "    </tr>\n",
       "  </thead>\n",
       "  <tbody>\n",
       "    <tr>\n",
       "      <th>0</th>\n",
       "      <td>Chaitanya</td>\n",
       "      <td>VJA</td>\n",
       "      <td>1</td>\n",
       "      <td>AS</td>\n",
       "      <td>185</td>\n",
       "      <td>180</td>\n",
       "      <td>5</td>\n",
       "      <td>A</td>\n",
       "      <td>1</td>\n",
       "    </tr>\n",
       "    <tr>\n",
       "      <th>1</th>\n",
       "      <td>Srinivasa</td>\n",
       "      <td>HYD</td>\n",
       "      <td>8</td>\n",
       "      <td>TS</td>\n",
       "      <td>195</td>\n",
       "      <td>115</td>\n",
       "      <td>80</td>\n",
       "      <td>C</td>\n",
       "      <td>3</td>\n",
       "    </tr>\n",
       "  </tbody>\n",
       "</table>\n",
       "</div>"
      ],
      "text/plain": [
       "  School Name Area Code  City Code State  No.of students  Presents  Absents  \\\n",
       "0   Chaitanya       VJA          1    AS             185       180        5   \n",
       "1   Srinivasa       HYD          8    TS             195       115       80   \n",
       "\n",
       "  Section  Floor  \n",
       "0       A      1  \n",
       "1       C      3  "
      ]
     },
     "execution_count": 27,
     "metadata": {},
     "output_type": "execute_result"
    }
   ],
   "source": [
    "df.head(2) #(First rows of table)"
   ]
  },
  {
   "cell_type": "code",
   "execution_count": 33,
   "id": "b491bec6",
   "metadata": {},
   "outputs": [
    {
     "data": {
      "text/html": [
       "<div>\n",
       "<style scoped>\n",
       "    .dataframe tbody tr th:only-of-type {\n",
       "        vertical-align: middle;\n",
       "    }\n",
       "\n",
       "    .dataframe tbody tr th {\n",
       "        vertical-align: top;\n",
       "    }\n",
       "\n",
       "    .dataframe thead th {\n",
       "        text-align: right;\n",
       "    }\n",
       "</style>\n",
       "<table border=\"1\" class=\"dataframe\">\n",
       "  <thead>\n",
       "    <tr style=\"text-align: right;\">\n",
       "      <th></th>\n",
       "      <th>School Name</th>\n",
       "      <th>Area Code</th>\n",
       "      <th>City Code</th>\n",
       "      <th>State</th>\n",
       "      <th>No.of students</th>\n",
       "      <th>Presents</th>\n",
       "      <th>Absents</th>\n",
       "      <th>Section</th>\n",
       "      <th>Floor</th>\n",
       "    </tr>\n",
       "  </thead>\n",
       "  <tbody>\n",
       "    <tr>\n",
       "      <th>28</th>\n",
       "      <td>Shree Swaminarayan Gurukul International School</td>\n",
       "      <td>TPR</td>\n",
       "      <td>8</td>\n",
       "      <td>AP</td>\n",
       "      <td>186</td>\n",
       "      <td>180</td>\n",
       "      <td>6</td>\n",
       "      <td>C</td>\n",
       "      <td>5</td>\n",
       "    </tr>\n",
       "    <tr>\n",
       "      <th>29</th>\n",
       "      <td>A.j.i. English School</td>\n",
       "      <td>MTM</td>\n",
       "      <td>1</td>\n",
       "      <td>AS</td>\n",
       "      <td>148</td>\n",
       "      <td>145</td>\n",
       "      <td>3</td>\n",
       "      <td>A</td>\n",
       "      <td>2</td>\n",
       "    </tr>\n",
       "  </tbody>\n",
       "</table>\n",
       "</div>"
      ],
      "text/plain": [
       "                                        School Name Area Code  City Code  \\\n",
       "28  Shree Swaminarayan Gurukul International School       TPR          8   \n",
       "29                            A.j.i. English School       MTM          1   \n",
       "\n",
       "   State  No.of students  Presents  Absents Section  Floor  \n",
       "28    AP             186       180        6       C      5  \n",
       "29    AS             148       145        3       A      2  "
      ]
     },
     "execution_count": 33,
     "metadata": {},
     "output_type": "execute_result"
    }
   ],
   "source": [
    "df.tail(2) #last two rows of table"
   ]
  },
  {
   "cell_type": "code",
   "execution_count": 29,
   "id": "2be49ae0",
   "metadata": {},
   "outputs": [
    {
     "data": {
      "text/plain": [
       "School Name       object\n",
       "Area Code         object\n",
       "City Code          int64\n",
       "State             object\n",
       "No.of students     int64\n",
       "Presents           int64\n",
       "Absents            int64\n",
       "Section           object\n",
       "Floor              int64\n",
       "dtype: object"
      ]
     },
     "execution_count": 29,
     "metadata": {},
     "output_type": "execute_result"
    }
   ],
   "source": [
    "df.dtypes #to know about the data type"
   ]
  },
  {
   "cell_type": "code",
   "execution_count": 30,
   "id": "e359a66e",
   "metadata": {},
   "outputs": [
    {
     "data": {
      "text/plain": [
       "RangeIndex(start=0, stop=30, step=1)"
      ]
     },
     "execution_count": 30,
     "metadata": {},
     "output_type": "execute_result"
    }
   ],
   "source": [
    "df.index"
   ]
  },
  {
   "cell_type": "code",
   "execution_count": 31,
   "id": "0d616bac",
   "metadata": {},
   "outputs": [
    {
     "data": {
      "text/plain": [
       "(30, 9)"
      ]
     },
     "execution_count": 31,
     "metadata": {},
     "output_type": "execute_result"
    }
   ],
   "source": [
    "df.shape"
   ]
  },
  {
   "cell_type": "code",
   "execution_count": 37,
   "id": "ec7557a8",
   "metadata": {},
   "outputs": [
    {
     "data": {
      "text/plain": [
       "array([ 5, 80, 29, 23, 30, 18, 17,  2, 43, 22,  1,  0,  3, 10, 15,  7, 20,\n",
       "        6], dtype=int64)"
      ]
     },
     "execution_count": 37,
     "metadata": {},
     "output_type": "execute_result"
    }
   ],
   "source": [
    "df.Absents.unique() # for specific column or row"
   ]
  },
  {
   "cell_type": "code",
   "execution_count": 42,
   "id": "404d147d",
   "metadata": {},
   "outputs": [
    {
     "data": {
      "text/html": [
       "<div>\n",
       "<style scoped>\n",
       "    .dataframe tbody tr th:only-of-type {\n",
       "        vertical-align: middle;\n",
       "    }\n",
       "\n",
       "    .dataframe tbody tr th {\n",
       "        vertical-align: top;\n",
       "    }\n",
       "\n",
       "    .dataframe thead th {\n",
       "        text-align: right;\n",
       "    }\n",
       "</style>\n",
       "<table border=\"1\" class=\"dataframe\">\n",
       "  <thead>\n",
       "    <tr style=\"text-align: right;\">\n",
       "      <th></th>\n",
       "      <th>School Name</th>\n",
       "      <th>Area Code</th>\n",
       "      <th>City Code</th>\n",
       "      <th>State</th>\n",
       "      <th>No.of students</th>\n",
       "      <th>Presents</th>\n",
       "      <th>Absents</th>\n",
       "      <th>Section</th>\n",
       "      <th>Floor</th>\n",
       "    </tr>\n",
       "  </thead>\n",
       "  <tbody>\n",
       "    <tr>\n",
       "      <th>2</th>\n",
       "      <td>St. Anns</td>\n",
       "      <td>MTM</td>\n",
       "      <td>2</td>\n",
       "      <td>AS</td>\n",
       "      <td>147</td>\n",
       "      <td>118</td>\n",
       "      <td>29</td>\n",
       "      <td>B</td>\n",
       "      <td>2</td>\n",
       "    </tr>\n",
       "    <tr>\n",
       "      <th>3</th>\n",
       "      <td>St. Maris</td>\n",
       "      <td>MTM</td>\n",
       "      <td>1</td>\n",
       "      <td>AS</td>\n",
       "      <td>128</td>\n",
       "      <td>105</td>\n",
       "      <td>23</td>\n",
       "      <td>A</td>\n",
       "      <td>3</td>\n",
       "    </tr>\n",
       "    <tr>\n",
       "      <th>4</th>\n",
       "      <td>Delhi Public School</td>\n",
       "      <td>HYD</td>\n",
       "      <td>8</td>\n",
       "      <td>TS</td>\n",
       "      <td>139</td>\n",
       "      <td>109</td>\n",
       "      <td>30</td>\n",
       "      <td>B</td>\n",
       "      <td>2</td>\n",
       "    </tr>\n",
       "  </tbody>\n",
       "</table>\n",
       "</div>"
      ],
      "text/plain": [
       "           School Name Area Code  City Code State  No.of students  Presents  \\\n",
       "2             St. Anns       MTM          2    AS             147       118   \n",
       "3            St. Maris       MTM          1    AS             128       105   \n",
       "4  Delhi Public School       HYD          8    TS             139       109   \n",
       "\n",
       "   Absents Section  Floor  \n",
       "2       29       B      2  \n",
       "3       23       A      3  \n",
       "4       30       B      2  "
      ]
     },
     "execution_count": 42,
     "metadata": {},
     "output_type": "execute_result"
    }
   ],
   "source": [
    "df[2:5]"
   ]
  }
 ],
 "metadata": {
  "kernelspec": {
   "display_name": "Python 3 (ipykernel)",
   "language": "python",
   "name": "python3"
  },
  "language_info": {
   "codemirror_mode": {
    "name": "ipython",
    "version": 3
   },
   "file_extension": ".py",
   "mimetype": "text/x-python",
   "name": "python",
   "nbconvert_exporter": "python",
   "pygments_lexer": "ipython3",
   "version": "3.9.12"
  }
 },
 "nbformat": 4,
 "nbformat_minor": 5
}
